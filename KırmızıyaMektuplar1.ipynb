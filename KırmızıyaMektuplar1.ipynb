{
  "nbformat": 4,
  "nbformat_minor": 0,
  "metadata": {
    "colab": {
      "provenance": [],
      "authorship_tag": "ABX9TyNav8crqjZSHOtzNXVTpTLJ"
    },
    "kernelspec": {
      "name": "python3",
      "display_name": "Python 3"
    },
    "language_info": {
      "name": "python"
    }
  },
  "cells": [
    {
      "cell_type": "markdown",
      "source": [
        "# **Kırmızıya Mektuplar - 1 .**\n",
        "\n",
        "Merhaba Kırmızı;\n",
        "\n",
        "Haklı direnişini yakından takip ediyorum ve artık biliyorsun ki destekliyorum. :)\n",
        "\n",
        "Bir önce ki yarı monolog konuşma formatında, hatırlayabilirsen tanımlar üzerinde durmaktan bahsetmiştik. irdeleyeceğini belirtmiştin ama hayat buna fırsat vermemiş olabilir ama aciliyeti olan bir konuda değil zaten.\n",
        "\n",
        "bende bu arada geçen zaman diliminde;\n",
        "\n",
        "İçinden dökülen sözcükleri toplayıp, direniş destekçisi olarak bir çiçekli bir sepet yaptım.\n",
        "\n",
        "tezatlık veya çelişmek kavramları başlamak için muhteşem bir yer bence.. ayrıca birde tutarlılık mevzusu var. Tutarlı olmak dediğimiz şeyin aslında tam bir çelişki içerdiğini ve çelişkisiz olan hemen hemen her nesnel ve soyut kavramın bir anlamının kalmayacağını ve bunun en büyük çelişki olduğunu anladım sanki. Kendinle çelişmek kadar güzel bir duyguyu yaşaman ise gerçekten çok çiçek.\n",
        "\n",
        "Kendisiyle çelişmekten korkan insanların sürüler halinde yetiştirildiği, sürülerin ise başımıza ne işler açabileceklerine çok yakından tanıklık ediyoruz sanırım.\n",
        "\n",
        "Yabancı hissetmen konusu sanırım bundan kaynaklanıyor. Sen sürüden değilsin çünkü. Tek başına kalmakta, sanırım ilk başlarda rahatsız edici olabiliyor. Aslında özgürlüğün ürpertici çekiciliği de diyebiliriz. Çok konforist sayılmaz biliyorum.\n",
        "\n",
        "o zaman ilk kademi kendisiyle çok çiçekli çelişen Haklı Direnişçi için kaldırıyorum. :) Kahrolsun Zincirler...\n",
        "\n",
        "ve çok kıymetli, belki de hayat dediğimiz olgunun, en büyük zaman diliminin, bilinen en küçük zaman diliminden ibaret olduğunu irdelemek bence Özgür Haklı Direnişçimiz için çok kıymetli olabilir.\n",
        "\n",
        "Tek zamansal gerçek. \"AN\"\n",
        "\n",
        "Lütfen bunu iyi düşün;\n",
        "\n",
        "bu bir 12 attosaniye (1,2 × 10 üzeri −17 saniye), yaklaşık 3,7 × 10 üzeri 26 Planck zamanı. birden abartı gelmiş olabilir ama bu kadar küçük bir sayının toplamına ömür diyoruz. Nazımın şiirinde kalem için diyor ya,\n",
        "\n",
        "bana sorsan iki satır, ona sorsan bir ömür.\n",
        "\n",
        "Zamanın göreceliliği ve herkes için ayrı işlemesi ayrı bir mükemmellik ve eşitliklerimizi bozuyor. Eşitlik mi , eşit olmamak mı apayrı, başka bir zaman konuşuruz umarım.\n",
        "\n",
        "daha uzatmadan da\n",
        "\n",
        "Absürdizminle tanışmış olmanın şerefine, ikinci kadehimi de kaldırıyorum.\n",
        "\n",
        "kalbinin acıması umarım geçmiştir yada biraz hafiflemiştir. Nede olsa üşütmekten olduğu teşhisi var. :) belki biraz tavuk suyu çorba bile işe yarayabilir. :)\n",
        "\n",
        "Umarım, bütün bunları yazarken, seni sinirlendirecek yada üzecek bir hadsizlik yapmamışımdır.\n",
        "\n",
        "biraz yorucu gibi gözükse de(ki bunu istediğini biliyorum) 90 yaşına geldiğinde hala, kendinle çelişmekten korkmadan, Absürd felsefe de bol eleştirisel bir yaşam sürersin. Bu seni alzaymırdan da korur ayrıca :)\n",
        "\n",
        "yada sürü orada seni bekliyor olacak.\n",
        "\n",
        "Tekrar yarı bir monologda görüşmek üzere.\n",
        "\n",
        "Sevgilerle ;\n",
        "\n",
        "Haklı Direniş Destekçin\n",
        "\n",
        "Ç.\n",
        "\n"
      ],
      "metadata": {
        "id": "_-Z-N4vDYAwf"
      }
    }
  ]
}