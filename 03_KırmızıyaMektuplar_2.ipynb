{
  "nbformat": 4,
  "nbformat_minor": 0,
  "metadata": {
    "colab": {
      "provenance": [],
      "authorship_tag": "ABX9TyN1ZhiMGinWpYlRXAFlW6Ia"
    },
    "kernelspec": {
      "name": "python3",
      "display_name": "Python 3"
    },
    "language_info": {
      "name": "python"
    }
  },
  "cells": [
    {
      "cell_type": "markdown",
      "source": [
        "# **Kırmızıya Mektuplar,**\n",
        "\n",
        "Merhaba Kırmızı ;\n",
        "\n",
        "Diyeceksin ki, halsiz düşmeler, ataklar, hastaneler bir ton dert varken başımda sırası mı şimdi.\n",
        "\n",
        "Belki, senin için çok sırası değil gibi bu yazdığım ya da tam tersi.\n",
        "\n",
        "Tam sırası..\n",
        "\n",
        "Hakan Günday'ın pişmanlıkla ilgili alıntısını gördüm bloğunda..\n",
        "\n",
        "“Pişman olmanın ağızda nasıl bir tat bıraktığını bilmiyordu ama acı olduğundan emindi.”\n",
        "\n",
        "ve Dostoyevski'nin;\n",
        "\n",
        "\"Ne yaparsan yap, daima pişman öleceksin. Belki yaptıklarından, belki de yapmadıklarından.\"\n",
        "\n",
        "düştü aklıma..\n",
        "\n",
        "belki minicik fren yaptırır hızına...\n",
        "\n",
        "Haklı Direniş Destekçin\n",
        "\n",
        "Sevgilerle Ç.\n",
        "\n"
      ],
      "metadata": {
        "id": "eyC2lfdXZP4o"
      }
    }
  ]
}