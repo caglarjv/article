{
  "nbformat": 4,
  "nbformat_minor": 0,
  "metadata": {
    "colab": {
      "provenance": [],
      "toc_visible": true,
      "authorship_tag": "ABX9TyMGxOJNCt/N8MMGCKqEdeOw"
    },
    "kernelspec": {
      "name": "python3",
      "display_name": "Python 3"
    },
    "language_info": {
      "name": "python"
    }
  },
  "cells": [
    {
      "cell_type": "markdown",
      "source": [
        "Yaşamanın Anlamı ve Anlamsızlığı Üzerine – Albert Camus ve Absürdizm\n",
        "\n",
        "\n",
        "**“Gerçekten önemli olan bir tek felsefe sorunu vardır, yok olmak. Yaşamın yaşanmaya değip değmediği konusunda bir yargıya varmak, felsefenin temel sorusuna yanıt vermektir.”**\n",
        "\n",
        "Albert Camus’nün sözleri bunlar. Sisifos Söyleni kitabında geçer.\n",
        "\n",
        "Başka bir sayfada da şunu söyler.\n",
        "\n",
        "“Hiç kimsenin varlık bilimsel bir kanıt uğruna öldüğünü görmedim. Önemli bir bilimsel gerçeğe varmış olan Galilei, bu gerçek, yaşamını tehlikeye sokar sokmaz, büyük bir rahatlıkla dönüverdi ondan. Bir bakıma iyi de etti. Uğrunda yakılıp ölmeye değmezdi bu gerçek. Dünya mı güneşin çevresinde döner, güneş mi dünyanın çevresinde, hiç mi hiç önemi yok bunun.”\n",
        "\n",
        "Albert Camus. 1913 doğumlu Fransız filozof, yazar ve gazeteci. Yabancı, Düşüş ve Veba gibi çok değerli kitapların yazarı. 1957 yılında “zamanımızda insanın vicdani sorunlarına ışık tutarak edebiyata yaptığı katkıları” nedeniyle Nobel Edebiyat Ödülünü de almış, hayatını kaybetmeden birkaç yıl önce de olsa yaşarken değeri kısmen bilinmiş, son yüzyılın en değerli düşünürlerinden.\n",
        "\n",
        "Ve amiyane tabirle kafayı taktığı, romanlarında, oyunlarında, makalelerinde sürekli ele aldığı bir soru vardı. Anlam… Hayatın anlamı. Yaşamanın değeri nedir?\n",
        "\n",
        "Ve sanırım bunu rahatlıkla söyleyebiliriz. Bu konuda oldukça pesimist bir bakış açısına da sahipti.\n",
        "\n",
        "Yaşamın anlamına bakış açısını kısmen oturtabileceğimiz bir de akım söz konusu.\n",
        "\n",
        "Abzürdizm.\n",
        "\n",
        "Absürt. Latince uyumsuz, mantığa uygun olmayan gibi anlamları olan bir kelime. Bugün de sık sık duyuyor ve kullanıyoruz.\n",
        "\n",
        "Camus da yaşamı tanımlarken işte bu terime başvuruyor. Yaşamın absürtlüğüne vurgu yaparak.\n",
        "\n",
        "Yani aslında ona göre yaşamın anlamını aramanın bir anlamı yok. Ve o nedenle insanın anlam arayışının bu bağlamda “absürt” olduğundan bahsediyor. Anlamsız. Buradan yola çıkarak bir nevi kendisinin başlatmış olduğu bu akıma absürdizm ya da varoluşçu absürdizm diyoruz.\n",
        "\n",
        "Sisifos söyleni kitabında da temel aldığı soru bu. “Yaşam bu kadar absürtse yaşamanın anlamı ne olabilir ki?”\n",
        "\n",
        "Aslında buradaki absürtlük beklentiler ve gerçekler arasındaki çatışmada. İnsanın sürekli bir anlam arayışı içinde olması ve uçsuz bucaksız evrenin bunu gerçekten hiç umursamaması şeklinde özetleyebileceğimiz bir çatışma.\n",
        "\n",
        "Ama bu kadar mı? Yani o zaman hepimiz yok mu olalım? Bırakalım mı tüm mücadeleyi?\n",
        "\n",
        "Camus ve aslında tüm düşünürler size bir reçete sunmaz. Sadece durum değerlendirmesi yapar.\n",
        "\n",
        "Ve Camus da bu konuda insanların bu kendine göre korkunç gerçek ile yüzleşmek için 3 ana yoldan birini tercih ettiğini söylüyor. Sisifos Söyleni kitabında da bunlardan detayları ile bahsediyor ancak özetlersek.\n",
        "\n",
        "Bu yollardan biri, yani anlamsız yaşam ile baş etmenin birinci yolu olarak yok oluştan bahsediyor Camus. Yani varoluş anlamsız ve absürt ise varolmak başlı başına anlamsız hale geliyor. Beklentileriniz ile gerçeklik arasındaki uçurumun bir süre sonra dayanılmaz hale gelmesi ve bir noktada yaşamın anlamsızlığının net bir şekilde anlaşışması ve bir şekilde var olmaktan vazgeçmekten bahsediyoruz. Bir nevi teslimiyet.\n",
        "\n",
        "İkinci yol olarak felsefi yok oluştan bahsediyor Camus. Felsefi İntihar da diyor buna. Varoluşun bayağılığı ve acı gerçeğinden sizi koruyacak, aklınızı çelecek, kurtaracak bazı inanç ve düşünce sistemlerine bağlanmak, takip etmek. Haliyle Camus bu sistemlerin en başına dini koyuyor. Kendisine göre şu anda dünyada bulunan 12’si büyük kalanı daha küçük gruplara hitap eden 4300 civarı din ve inanç sistemi mevcut. Ve üstün bir varlığa inanmanın insanlara rahatlık sağladığını ve bu anlamsızlığa bir anlam kazandırdığını söylüyor. Ancak yine Camus’ya göre herhangi bir inanç sistemi hakiki bir anlam yerine bir nevi illüzyon görevi görüyor. Tanrının varlığı yokluğu konu değil burada. Kendisine göre eğer zaten tanrı yoksa bir anlamdan söz etmemiz söz konusu değil. Eğer Tanrı varsa dünyadaki tüm acılar ve anlamsız savaşların yanında günlük rutinler Tanrının yaşamın absürtlüğüne katkı yaptığını, her şeyi daha da absürtleştirdiğini söylüyor.\n",
        "\n",
        "Bunun ötesinde herhangi bir inanç sistemine dahil olmak Camus’ya göre bir tür entelektüel intihardır. Entelektüel yetilerinizden fedakarlık göstermelisiniz inanıyorsanız diyor.\n",
        "\n",
        "Tabi sadece dinlerden bahsedemeyiz. Bunun da yanında sevdiklerimiz, anne-babamız, çocuklarımız, arkadaşlarımız ile olan ilişkilerimiz de anlam arayışında çok önemli bir kaynak birçok insana göre. Dünyada ne kadar kötülük olursa olsun sevdiklerimiz için yaşıyor, onlar için fedakarlık yapıyoruz. Her şeyi çok daha anlamlı kılıyor bu çaba.\n",
        "\n",
        "Ama yine Camus’ya göre tüm sevdiklerimizin bir gün ölecek, yok olacak olması da, bazılarının ölmeden önce birçok acı çekecek olması ayrı bir absürtlük.\n",
        "\n",
        "Buraya kadar baktığımızda evet. O zaman anlam arayışı dünyanın en anlamsız çabası. Ve bu yolda yaptığımız her şey boşuna. Her yol çıkmaz. Çok depresif değil mi? E o zaman neden vazgeçmiyoruz? Ama Camus bu felsefi soruna sonuncu cevabında kendince bir çözümden bahsediyor. Nietsche’den bahsedebiliriz burada. Camus ile paralel düşüncelere sahipti biliyorsunuz. Yaşam derin bir anlamdan yoksun boş bir çaba diyordu. Ama kendisine göre “illüzyonlara” sarılarak bunlardan kurtulabiliriz. Sanatçılar ona göre en üst yaşam formları ve tüm insanlığın onlardan öğreneceği çok şey var. Boş, anlamsız, sıkıcı hayatlarımıza şarkıları ile, resimleri ile, heykelleri ile anlam kazandıran varlıklar sanatçılar. Hiç yoktan güzellik, estetik çıkaranlar. Her birimiz sanatçı olamasak da en azından bu bakış açısını edinerek kendi hayatımızın şairleri olabiliriz diyor.\n",
        "\n",
        "Camus’nun bu felsefi soruna sunduğu üçüncü ve sonuncu cevap ise Nietsche’den biraz daha farklı ve belki de daha dürüst bir bakış açısı. Başkaldırıdan bahsediyor Camus. Yalnız bildiğimiz anlamı ile değil. Varoluşun absürtlüğüne karşı başkaldırıdan bahsediyor. Bir Absürt Kahraman olmaktan. Ve bir Absürt Kahraman illüzyonlara sığınmaz diyor. Tam aksine absürtlüğün gayet farkındadır, bununla cesur bir şekilde yüzleşir ve bunu tüm kalbi ile kabul eder. Entelektüel olarak fedakarlık yapmadan ya da fiziksel olarak yok olmaktansa tüm acı gerçeklere karşı bir isyan.\n",
        "\n",
        "Ve bu Absürt Kahramanın üç özelliği olduğundan bahseder Camus. Birincisi bahsettiğimiz gibi cesurlardır. Varoluşa karşı başkaldırmaktan bahsediyor. İkincisi özgürlerdir. İstediklerini yapabilmekte, en azından her şeyi isteyebilmekte özgürlerdir. Ve son olarak “çeşitliliğe” vurgu yapar. Yaşamın bayağılıktan uzak, çok çeşitli deneyimlerle, tutkularla dolu olması gerektiğini söyler.\n",
        "\n",
        "Bu anlatısını da kitaplarında görüyoruz. Sisifos Söyleninde konu edindiği Sisyphos Yunan Mitolojisinde, Yeraltı dünyasında sonsuza kadar büyük bir kayayı bir tepenin en yüksek noktasına dek yuvarlamaya mahkûm edilmiş bir kraldır. Fakat her seferinde tepeye ulaştığı anda geri yuvarlanan bu kayayı her seferinde tekrar tepeye çıkarmaya çalışması Sisifos’un aslında mutlu bir insan, bir Absürt Kahraman olduğunu gösterir. Çünkü anlamsızlığı kabullenmiş ve buna rağmen yaşamaya ve denemeye devam eden bir kahramandır o.  Eğer Sisyphus yenilir ve acı çekmeye devam ederse bu tanrıların zaferi olur ancak o direniş gösterir ve zafer onun olur. “Ne zaman olacağı belirsiz bir kurtuluş umuduna bel bağlamak yerine,  bu işkencenin sonsuza kadar süreceği gerçeğiyle yüzleşen ve bu kaderini kabul edip aşağı inerek taşı tekrar yukarı çıkartmaya başlayan Sisyphus, bir kahramandır artık. Bu boyun eğme değil, başkaldırıdır.”\n",
        "\n",
        "Ya da Yabancı kitabındaki Mersault karakteri. Meursault tam anlamıyla bir uyumsuzdur! Yukarıda tanımladığımız uyumsuz iklimin ‘yabancı’ çocuğudur o. Topluma aykırı davranışlar sergiler, öyle ki etrafındaki insanlar onu çoğu zaman garipser. Romanın daha ilk cümlesinden bu vurdumduymazlığı sezinleriz. “Anam ölmüş bugün. Belki de dün, bilmiyorum.” Meursault annesinin cenazesinde de aynı kayıtsız tavırlara devam eder. Ağlamaz, verilen kahveyi içer, sigarasını tüttürür. Hatta gün doğarken tepeler ardındaki kızıl gökyüzünü seyreder, uzun süredir kırlara çıkmadığını düşünür ve içinden:\n",
        "\n",
        "“Anam ölmeseydi, kim bilir ne güzel gezip eğlenirdim.” diye geçirir. Oysa toplumun beklentisi annesi ölen bir adamın yas tutması, ağlamasıdır elbette. Meursault, kendisine annesini göstermek için tabutu açmayı teklif eden kapıcıyı da reddeder. Tüm bu kayıtsız ve duygusuz tavırlarıyla Meursault gerçek bir uyumsuzdur! Bir Absürt Kahraman…\n",
        "\n",
        "Yani Camus genel kanı aksine yok oluşu güzelleyen biri değildi. Her şeye rağmen devam etme cesareti gösterenleri büyük bir takdirle anlatan bir düşünürdü.\"\n",
        "\n",
        "\n"
      ],
      "metadata": {
        "id": "S6hd7CObNEqC"
      }
    }
  ]
}